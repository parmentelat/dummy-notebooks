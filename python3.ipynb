{
 "cells": [
  {
   "cell_type": "markdown",
   "metadata": {},
   "source": [
    "# title"
   ]
  },
  {
   "cell_type": "code",
   "execution_count": null,
   "metadata": {},
   "outputs": [],
   "source": [
    "import numpy as np"
   ]
  },
  {
   "cell_type": "code",
   "execution_count": null,
   "metadata": {},
   "outputs": [],
   "source": [
    "X = np.linspace(-10, 10)\n",
    "Y = np.sin(X)"
   ]
  },
  {
   "cell_type": "code",
   "execution_count": null,
   "metadata": {},
   "outputs": [],
   "source": [
    "%matplotlib inline\n",
    "import matplotlib.pyplot as plt"
   ]
  },
  {
   "cell_type": "code",
   "execution_count": null,
   "metadata": {},
   "outputs": [],
   "source": [
    "plt.plot(X, Y);"
   ]
  },
  {
   "cell_type": "markdown",
   "metadata": {},
   "source": [
    "a rough test to trigger a git update on the whole repo\n",
    "\n",
    "**NOTE: this *can be disruptive* as the mental model behind `nbgitpuller` is to be used in a context that does never push.**"
   ]
  },
  {
   "cell_type": "markdown",
   "metadata": {},
   "source": [
    "<a href=\"/git-pull?repo=https://github.com/parmentelat/nbh-nbgitpuller\">UPDATE THE CURRENT WORK SPACE FROM GIT - with automatic redirect</a>"
   ]
  },
  {
   "cell_type": "markdown",
   "metadata": {},
   "source": [
    "<a href=\"/git-pull?repo=https://github.com/parmentelat/nbh-nbgitpuller&redirect=false\">SAME UPDATE with redirect=false</a>"
   ]
  },
  {
   "cell_type": "markdown",
   "metadata": {},
   "source": [
    "<a href=\"/git-pull?repo=https://github.com/parmentelat/nbh-nbgitpuller&redirect=true\">again with explicit `redirect=true`</a>"
   ]
  },
  {
   "cell_type": "markdown",
   "metadata": {},
   "source": [
    "<a href=\"/git-pull?repo=https://github.com/parmentelat/nbh-nbgitpuller&subPath=python3.ipynb&redirect=false\"> UPDATE to just a file (this one) and redirect=false</a>"
   ]
  },
  {
   "cell_type": "markdown",
   "metadata": {},
   "source": [
    "## intentionally broken\n",
    "\n",
    "a rough test that refers to a non-existing repo, and that will trigger an error\n",
    "\n",
    "idea being to exhibit the behaviour where the results stick, and we don't get redirected anywhere\n",
    "    \n",
    "<a href=\"/git-pull?repo=intentionally-no-such-repo\">CLIC TO TRIGGER A GIT ERROR</a>"
   ]
  }
 ],
 "metadata": {
  "kernelspec": {
   "display_name": "Python 3",
   "language": "python",
   "name": "python3"
  },
  "language_info": {
   "codemirror_mode": {
    "name": "ipython",
    "version": 3
   },
   "file_extension": ".py",
   "mimetype": "text/x-python",
   "name": "python",
   "nbconvert_exporter": "python",
   "pygments_lexer": "ipython3",
   "version": "3.7.3"
  }
 },
 "nbformat": 4,
 "nbformat_minor": 2
}
