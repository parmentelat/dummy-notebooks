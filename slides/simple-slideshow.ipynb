{
 "cells": [
  {
   "cell_type": "markdown",
   "metadata": {
    "slideshow": {
     "slide_type": "slide"
    }
   },
   "source": [
    "## nothing much"
   ]
  },
  {
   "cell_type": "markdown",
   "metadata": {},
   "source": [
    "* mostly a way to test latest RISE\n",
    "* works fine in this environment\n",
    "* as installed from `pip install --pre rise`"
   ]
  },
  {
   "cell_type": "markdown",
   "metadata": {
    "slideshow": {
     "slide_type": "slide"
    }
   },
   "source": [
    "## code cells"
   ]
  },
  {
   "cell_type": "code",
   "execution_count": null,
   "metadata": {},
   "outputs": [],
   "source": [
    "def foo(a, *b):\n",
    "    print(a, *b)\n",
    "    \n",
    "foo(\"hello\", \"world\")"
   ]
  },
  {
   "cell_type": "markdown",
   "metadata": {
    "slideshow": {
     "slide_type": "slide"
    }
   },
   "source": [
    "## table cells"
   ]
  },
  {
   "cell_type": "markdown",
   "metadata": {},
   "source": [
    "prior to 5.6 we were getting very small tables\n",
    "\n",
    "| sample | table |\n",
    "|--------|-------|\n",
    "| men    | 10%   |\n",
    "| women  | 70%   |\n",
    "| children | 30% |"
   ]
  }
 ],
 "metadata": {
  "celltoolbar": "Slideshow",
  "kernelspec": {
   "display_name": "Python 3",
   "language": "python",
   "name": "python3"
  },
  "language_info": {
   "codemirror_mode": {
    "name": "ipython",
    "version": 3
   },
   "file_extension": ".py",
   "mimetype": "text/x-python",
   "name": "python",
   "nbconvert_exporter": "python",
   "pygments_lexer": "ipython3",
   "version": "3.7.3"
  },
  "rise": {
   "autolaunch": true,
   "theme": "sky",
   "transtion": "cube"
  }
 },
 "nbformat": 4,
 "nbformat_minor": 2
}
